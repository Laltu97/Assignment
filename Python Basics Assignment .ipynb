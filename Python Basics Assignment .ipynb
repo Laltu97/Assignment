{
 "cells": [
  {
   "cell_type": "markdown",
   "id": "2b241087-6f89-46d3-8f38-303356cd46e3",
   "metadata": {},
   "source": [
    "## Q.1) Explain the key features of Python that make it a popular choice for programming."
   ]
  },
  {
   "cell_type": "markdown",
   "id": "4a3959d4-c94f-4cc7-9825-e0783468df3d",
   "metadata": {},
   "source": [
    "### Ans :- Python is easy to lern and read because its code looks like normal english. It is free to use works on different computers and does not need to compiled like some other languages. It has many built in tools and supports different typesof programming object oriented and functionalprogramming."
   ]
  },
  {
   "cell_type": "markdown",
   "id": "8b77f65a-ccc7-426d-adf7-c999440ab4cb",
   "metadata": {},
   "source": [
    "## Q.2) Describe the role of predefined keywords in python and provide examples of how they are used in a program?"
   ]
  },
  {
   "cell_type": "markdown",
   "id": "e3277120-3d5b-448d-b728-1a82d8b0b48b",
   "metadata": {},
   "source": [
    "### Ans :- Predefined keywords in python are some special words that have special meanings and cannot be used as variable names. Examples are if, in, is, import, else, elif, for, del, def, try, pass, true, false, etc...."
   ]
  },
  {
   "cell_type": "code",
   "execution_count": 2,
   "id": "a5e47183-12f3-4581-b75b-b6849f7e6885",
   "metadata": {},
   "outputs": [
    {
     "name": "stdout",
     "output_type": "stream",
     "text": [
      "greater\n"
     ]
    }
   ],
   "source": [
    "if 20 > 10:\n",
    "    print(\"greater\")"
   ]
  },
  {
   "cell_type": "markdown",
   "id": "222cdca5-0785-4973-a602-731fe8b5d7c1",
   "metadata": {},
   "source": [
    "## Q.3) Compare and contrast mutable and immutable objects in Python with examples."
   ]
  },
  {
   "cell_type": "markdown",
   "id": "35881b2e-c7dc-4567-bfa3-adfdf679beb3",
   "metadata": {},
   "source": [
    "### Ans :- Python objects are two types (Mutable and Immutable) mutable objects can be changed after they are created. But immutable objects cannot be changed after they are created. Examples :- 1. Mutable- list, dict    2. Immutable- string, int, float"
   ]
  },
  {
   "cell_type": "code",
   "execution_count": 4,
   "id": "d77c731b-ca89-4251-9995-a7abb12ed878",
   "metadata": {},
   "outputs": [],
   "source": [
    "mylist = [1,1.1,3,4,5]"
   ]
  },
  {
   "cell_type": "code",
   "execution_count": 5,
   "id": "b92b53af-c4d9-41c1-9f34-3297d6dfe251",
   "metadata": {},
   "outputs": [
    {
     "name": "stdout",
     "output_type": "stream",
     "text": [
      "[1, 1.1, 3, 4, 5]\n"
     ]
    }
   ],
   "source": [
    "print(mylist)"
   ]
  },
  {
   "cell_type": "code",
   "execution_count": 6,
   "id": "b9d92007-c939-4b7b-888b-3627d2557bfc",
   "metadata": {},
   "outputs": [],
   "source": [
    "mylist[1] = 2"
   ]
  },
  {
   "cell_type": "code",
   "execution_count": 7,
   "id": "3919f845-b6ef-413b-8878-e147fe659331",
   "metadata": {},
   "outputs": [
    {
     "name": "stdout",
     "output_type": "stream",
     "text": [
      "[1, 2, 3, 4, 5]\n"
     ]
    }
   ],
   "source": [
    "print(mylist)"
   ]
  },
  {
   "cell_type": "code",
   "execution_count": 8,
   "id": "6475370c-cd28-4089-a5c8-947e9775f25c",
   "metadata": {},
   "outputs": [],
   "source": [
    "## Examples Immutable\n",
    "a = \"Laltu\""
   ]
  },
  {
   "cell_type": "code",
   "execution_count": 9,
   "id": "8c1cde50-bc7a-4978-b417-8b713593c9e0",
   "metadata": {},
   "outputs": [
    {
     "name": "stdout",
     "output_type": "stream",
     "text": [
      "Laltu\n"
     ]
    }
   ],
   "source": [
    "print(a)"
   ]
  },
  {
   "cell_type": "code",
   "execution_count": 10,
   "id": "fff2b407-ccdb-41e7-906d-8af42ea37de0",
   "metadata": {},
   "outputs": [
    {
     "data": {
      "text/plain": [
       "'L'"
      ]
     },
     "execution_count": 10,
     "metadata": {},
     "output_type": "execute_result"
    }
   ],
   "source": [
    "a[0]"
   ]
  },
  {
   "cell_type": "code",
   "execution_count": 11,
   "id": "51a9357b-b17e-4ebd-b1ba-f6c43fc3b478",
   "metadata": {},
   "outputs": [
    {
     "ename": "TypeError",
     "evalue": "'str' object does not support item assignment",
     "output_type": "error",
     "traceback": [
      "\u001b[1;31m---------------------------------------------------------------------------\u001b[0m",
      "\u001b[1;31mTypeError\u001b[0m                                 Traceback (most recent call last)",
      "Cell \u001b[1;32mIn[11], line 1\u001b[0m\n\u001b[1;32m----> 1\u001b[0m a[\u001b[38;5;241m0\u001b[39m] \u001b[38;5;241m=\u001b[39m \u001b[38;5;124m\"\u001b[39m\u001b[38;5;124mK\u001b[39m\u001b[38;5;124m\"\u001b[39m\n",
      "\u001b[1;31mTypeError\u001b[0m: 'str' object does not support item assignment"
     ]
    }
   ],
   "source": [
    "a[0] = \"K\""
   ]
  },
  {
   "cell_type": "markdown",
   "id": "808f802b-0eb4-4ca5-b872-9b003d4b355c",
   "metadata": {},
   "source": [
    "## Q.4) Discuss the different types of operators in Python and provide examples of how they are used."
   ]
  },
  {
   "cell_type": "markdown",
   "id": "2cfc904e-adbc-47a5-bfab-25b692fa7bc2",
   "metadata": {},
   "source": [
    "### Ans :- Python provides various types of symbols and operators that perform operations."
   ]
  },
  {
   "cell_type": "code",
   "execution_count": 12,
   "id": "10f51572-f1f1-416a-b512-94d4b0421df9",
   "metadata": {},
   "outputs": [],
   "source": [
    "### Examples\n",
    "## 1. Arithmetic\n",
    "a = 10\n",
    "b = 12"
   ]
  },
  {
   "cell_type": "code",
   "execution_count": 13,
   "id": "3646978b-dadd-426e-871f-34104d2852df",
   "metadata": {},
   "outputs": [
    {
     "name": "stdout",
     "output_type": "stream",
     "text": [
      "22\n"
     ]
    }
   ],
   "source": [
    "print(a+b)"
   ]
  },
  {
   "cell_type": "code",
   "execution_count": 14,
   "id": "6628efe0-3d9c-4ca2-85c9-c67f48c5728a",
   "metadata": {},
   "outputs": [
    {
     "data": {
      "text/plain": [
       "20"
      ]
     },
     "execution_count": 14,
     "metadata": {},
     "output_type": "execute_result"
    }
   ],
   "source": [
    "22 - 2"
   ]
  },
  {
   "cell_type": "code",
   "execution_count": 15,
   "id": "fdc0b465-0566-4442-827e-1983abc2e4ab",
   "metadata": {},
   "outputs": [
    {
     "data": {
      "text/plain": [
       "True"
      ]
     },
     "execution_count": 15,
     "metadata": {},
     "output_type": "execute_result"
    }
   ],
   "source": [
    "## 2. Comparison (==,!=,>,<,>=,<=)\n",
    "2 == 2"
   ]
  },
  {
   "cell_type": "code",
   "execution_count": 16,
   "id": "fb572f65-854c-4755-a4fa-356272193eb9",
   "metadata": {},
   "outputs": [
    {
     "data": {
      "text/plain": [
       "False"
      ]
     },
     "execution_count": 16,
     "metadata": {},
     "output_type": "execute_result"
    }
   ],
   "source": [
    "4 != 4"
   ]
  },
  {
   "cell_type": "code",
   "execution_count": 17,
   "id": "642a2e8d-fad1-4c7a-96d3-87f99310db79",
   "metadata": {},
   "outputs": [
    {
     "data": {
      "text/plain": [
       "True"
      ]
     },
     "execution_count": 17,
     "metadata": {},
     "output_type": "execute_result"
    }
   ],
   "source": [
    "10>2"
   ]
  },
  {
   "cell_type": "code",
   "execution_count": 18,
   "id": "e760492b-8ccc-44c7-a2e7-d77bcbb73ffa",
   "metadata": {},
   "outputs": [
    {
     "data": {
      "text/plain": [
       "False"
      ]
     },
     "execution_count": 18,
     "metadata": {},
     "output_type": "execute_result"
    }
   ],
   "source": [
    "10<2"
   ]
  },
  {
   "cell_type": "code",
   "execution_count": 19,
   "id": "563db7ea-013a-4909-9809-5af80c8891e5",
   "metadata": {},
   "outputs": [
    {
     "data": {
      "text/plain": [
       "True"
      ]
     },
     "execution_count": 19,
     "metadata": {},
     "output_type": "execute_result"
    }
   ],
   "source": [
    "### 3. Logical (and, or, not)\n",
    "True and True"
   ]
  },
  {
   "cell_type": "code",
   "execution_count": 20,
   "id": "6b1f6383-f4db-4951-bcee-96b0fed05a82",
   "metadata": {},
   "outputs": [
    {
     "data": {
      "text/plain": [
       "False"
      ]
     },
     "execution_count": 20,
     "metadata": {},
     "output_type": "execute_result"
    }
   ],
   "source": [
    "True and False"
   ]
  },
  {
   "cell_type": "code",
   "execution_count": 21,
   "id": "f68a3745-a815-4248-b4e1-ce34df25e98f",
   "metadata": {},
   "outputs": [
    {
     "data": {
      "text/plain": [
       "True"
      ]
     },
     "execution_count": 21,
     "metadata": {},
     "output_type": "execute_result"
    }
   ],
   "source": [
    "True or False"
   ]
  },
  {
   "cell_type": "code",
   "execution_count": 22,
   "id": "f8d7c6f8-ccdf-4b4b-92a4-3e08195bb937",
   "metadata": {},
   "outputs": [
    {
     "data": {
      "text/plain": [
       "True"
      ]
     },
     "execution_count": 22,
     "metadata": {},
     "output_type": "execute_result"
    }
   ],
   "source": [
    "False or True"
   ]
  },
  {
   "cell_type": "code",
   "execution_count": 23,
   "id": "6beae939-c68a-40df-b580-3493d1ec1db4",
   "metadata": {},
   "outputs": [
    {
     "data": {
      "text/plain": [
       "False"
      ]
     },
     "execution_count": 23,
     "metadata": {},
     "output_type": "execute_result"
    }
   ],
   "source": [
    "not True"
   ]
  },
  {
   "cell_type": "code",
   "execution_count": 24,
   "id": "2bd6901f-96d5-46e8-9cae-d962a8e6f9af",
   "metadata": {},
   "outputs": [
    {
     "data": {
      "text/plain": [
       "True"
      ]
     },
     "execution_count": 24,
     "metadata": {},
     "output_type": "execute_result"
    }
   ],
   "source": [
    "not False"
   ]
  },
  {
   "cell_type": "code",
   "execution_count": 25,
   "id": "c7aa5350-6565-41f5-8599-868174346579",
   "metadata": {},
   "outputs": [],
   "source": [
    "#### 4. Assignment (=,=+,-=,*=,/=)\n",
    "a = 10"
   ]
  },
  {
   "cell_type": "code",
   "execution_count": 26,
   "id": "a3ec793a-fa23-43de-bdbf-bd3109f68b39",
   "metadata": {},
   "outputs": [
    {
     "data": {
      "text/plain": [
       "10"
      ]
     },
     "execution_count": 26,
     "metadata": {},
     "output_type": "execute_result"
    }
   ],
   "source": [
    "a"
   ]
  },
  {
   "cell_type": "code",
   "execution_count": 27,
   "id": "751ca45f-0391-47be-a96e-7da89fbb96ee",
   "metadata": {},
   "outputs": [],
   "source": [
    "a += 8"
   ]
  },
  {
   "cell_type": "code",
   "execution_count": 28,
   "id": "3de1e0f0-95b6-4493-bc62-f31089222be5",
   "metadata": {},
   "outputs": [
    {
     "data": {
      "text/plain": [
       "18"
      ]
     },
     "execution_count": 28,
     "metadata": {},
     "output_type": "execute_result"
    }
   ],
   "source": [
    "a"
   ]
  },
  {
   "cell_type": "code",
   "execution_count": 29,
   "id": "e4d0aaca-0039-42ef-88a9-e0080b0b7bb2",
   "metadata": {},
   "outputs": [],
   "source": [
    "a -= 2"
   ]
  },
  {
   "cell_type": "code",
   "execution_count": 30,
   "id": "4cc04e76-720e-452b-9e85-ac935927833e",
   "metadata": {},
   "outputs": [
    {
     "data": {
      "text/plain": [
       "16"
      ]
     },
     "execution_count": 30,
     "metadata": {},
     "output_type": "execute_result"
    }
   ],
   "source": [
    "a"
   ]
  },
  {
   "cell_type": "code",
   "execution_count": 31,
   "id": "8a60d5b9-de12-4cc0-8a57-90f3dff47042",
   "metadata": {},
   "outputs": [],
   "source": [
    "a *= 2"
   ]
  },
  {
   "cell_type": "code",
   "execution_count": 32,
   "id": "dbb7b292-2149-4a5d-8d3e-e1ac46f8b766",
   "metadata": {},
   "outputs": [
    {
     "data": {
      "text/plain": [
       "32"
      ]
     },
     "execution_count": 32,
     "metadata": {},
     "output_type": "execute_result"
    }
   ],
   "source": [
    "a"
   ]
  },
  {
   "cell_type": "code",
   "execution_count": 33,
   "id": "a9375b6f-542c-4adb-9ea1-52f7637d3b29",
   "metadata": {},
   "outputs": [],
   "source": [
    "a /= 4"
   ]
  },
  {
   "cell_type": "code",
   "execution_count": 34,
   "id": "4dc47e98-3fa3-4157-92b7-7d960e03a5d3",
   "metadata": {},
   "outputs": [
    {
     "data": {
      "text/plain": [
       "8.0"
      ]
     },
     "execution_count": 34,
     "metadata": {},
     "output_type": "execute_result"
    }
   ],
   "source": [
    "a"
   ]
  },
  {
   "cell_type": "code",
   "execution_count": 35,
   "id": "78688591-abca-4cbd-9ec5-225e18ef57f6",
   "metadata": {},
   "outputs": [],
   "source": [
    "##### Identity (is, is not)\n",
    "a = 2"
   ]
  },
  {
   "cell_type": "code",
   "execution_count": 36,
   "id": "5b4ecb09-c81a-4ee5-a14d-8b401f3f425b",
   "metadata": {},
   "outputs": [],
   "source": [
    "b = 3"
   ]
  },
  {
   "cell_type": "code",
   "execution_count": 37,
   "id": "d91cb7b9-85e5-41a7-947d-0aaa597be5a1",
   "metadata": {},
   "outputs": [
    {
     "data": {
      "text/plain": [
       "False"
      ]
     },
     "execution_count": 37,
     "metadata": {},
     "output_type": "execute_result"
    }
   ],
   "source": [
    "a is b"
   ]
  },
  {
   "cell_type": "code",
   "execution_count": 38,
   "id": "9bcaf1ee-8072-4b3a-9ea4-7ec658f46c3b",
   "metadata": {},
   "outputs": [],
   "source": [
    "a = 2\n",
    "b = a"
   ]
  },
  {
   "cell_type": "code",
   "execution_count": 39,
   "id": "0185f3c6-fcfc-4042-a313-867888d5955a",
   "metadata": {},
   "outputs": [
    {
     "data": {
      "text/plain": [
       "True"
      ]
     },
     "execution_count": 39,
     "metadata": {},
     "output_type": "execute_result"
    }
   ],
   "source": [
    "b is a"
   ]
  },
  {
   "cell_type": "code",
   "execution_count": 40,
   "id": "89fa57ab-c954-4be5-890d-3c55e937ca73",
   "metadata": {},
   "outputs": [
    {
     "data": {
      "text/plain": [
       "False"
      ]
     },
     "execution_count": 40,
     "metadata": {},
     "output_type": "execute_result"
    }
   ],
   "source": [
    "a = 2\n",
    "b = 3\n",
    "a is b"
   ]
  },
  {
   "cell_type": "code",
   "execution_count": 41,
   "id": "e4f5d4fb-1817-437a-8f85-deffe5be3118",
   "metadata": {},
   "outputs": [
    {
     "data": {
      "text/plain": [
       "True"
      ]
     },
     "execution_count": 41,
     "metadata": {},
     "output_type": "execute_result"
    }
   ],
   "source": [
    "a is not b"
   ]
  },
  {
   "cell_type": "code",
   "execution_count": 42,
   "id": "254697c8-82dc-4d2c-9bdc-0628ab030964",
   "metadata": {},
   "outputs": [
    {
     "data": {
      "text/plain": [
       "10"
      ]
     },
     "execution_count": 42,
     "metadata": {},
     "output_type": "execute_result"
    }
   ],
   "source": [
    "###### Bitwise (&, ^,~, <<, >>)\n",
    "10 & 10"
   ]
  },
  {
   "cell_type": "code",
   "execution_count": 43,
   "id": "948adc39-64f4-4335-81b4-221523c7a0da",
   "metadata": {},
   "outputs": [
    {
     "data": {
      "text/plain": [
       "'0b1010'"
      ]
     },
     "execution_count": 43,
     "metadata": {},
     "output_type": "execute_result"
    }
   ],
   "source": [
    "bin(10)"
   ]
  },
  {
   "cell_type": "code",
   "execution_count": 44,
   "id": "230c94ad-6940-4491-aee0-d04a5b236a7d",
   "metadata": {},
   "outputs": [
    {
     "data": {
      "text/plain": [
       "'0b101'"
      ]
     },
     "execution_count": 44,
     "metadata": {},
     "output_type": "execute_result"
    }
   ],
   "source": [
    "bin(5)"
   ]
  },
  {
   "cell_type": "code",
   "execution_count": 45,
   "id": "b9759441-5e66-4662-a091-2f9b699e6aaa",
   "metadata": {},
   "outputs": [
    {
     "data": {
      "text/plain": [
       "13"
      ]
     },
     "execution_count": 45,
     "metadata": {},
     "output_type": "execute_result"
    }
   ],
   "source": [
    "4 | 9"
   ]
  },
  {
   "cell_type": "code",
   "execution_count": 46,
   "id": "526a2446-8019-481a-b2be-7f00d5a7ebd3",
   "metadata": {},
   "outputs": [
    {
     "data": {
      "text/plain": [
       "'0b100'"
      ]
     },
     "execution_count": 46,
     "metadata": {},
     "output_type": "execute_result"
    }
   ],
   "source": [
    "bin(4)"
   ]
  },
  {
   "cell_type": "code",
   "execution_count": 47,
   "id": "1b5a8cb9-c83e-45fe-bcbe-de212df990ce",
   "metadata": {},
   "outputs": [
    {
     "data": {
      "text/plain": [
       "'0b1001'"
      ]
     },
     "execution_count": 47,
     "metadata": {},
     "output_type": "execute_result"
    }
   ],
   "source": [
    "bin(9)"
   ]
  },
  {
   "cell_type": "markdown",
   "id": "4781a100-3121-429b-9e3a-f40def20b660",
   "metadata": {},
   "source": [
    "## Q.5) Explain the concept of type casting in python with examples."
   ]
  },
  {
   "cell_type": "markdown",
   "id": "92df8070-7db5-43c9-b475-3b5de784b228",
   "metadata": {},
   "source": [
    "### Ans :- Type casting is the process of changing one data to another data. (Example - int to str)"
   ]
  },
  {
   "cell_type": "code",
   "execution_count": 48,
   "id": "0e4f7b46-23f2-4d7f-bbe4-9d1af440f9c4",
   "metadata": {},
   "outputs": [],
   "source": [
    "a = 25"
   ]
  },
  {
   "cell_type": "code",
   "execution_count": 49,
   "id": "8995a932-5d4d-40ca-9805-79d790615ec5",
   "metadata": {},
   "outputs": [
    {
     "data": {
      "text/plain": [
       "int"
      ]
     },
     "execution_count": 49,
     "metadata": {},
     "output_type": "execute_result"
    }
   ],
   "source": [
    "type(a)"
   ]
  },
  {
   "cell_type": "code",
   "execution_count": 50,
   "id": "3a43bc8c-310f-4c43-83ff-962365b60995",
   "metadata": {},
   "outputs": [],
   "source": [
    "a = str(a)"
   ]
  },
  {
   "cell_type": "code",
   "execution_count": 51,
   "id": "83d23fde-9bf9-4c49-96e4-f3949f4c7d0c",
   "metadata": {},
   "outputs": [
    {
     "data": {
      "text/plain": [
       "'25'"
      ]
     },
     "execution_count": 51,
     "metadata": {},
     "output_type": "execute_result"
    }
   ],
   "source": [
    "a"
   ]
  },
  {
   "cell_type": "code",
   "execution_count": 52,
   "id": "3145b529-e376-494a-acb4-29927015c860",
   "metadata": {},
   "outputs": [
    {
     "data": {
      "text/plain": [
       "str"
      ]
     },
     "execution_count": 52,
     "metadata": {},
     "output_type": "execute_result"
    }
   ],
   "source": [
    "type(\"a\")"
   ]
  },
  {
   "cell_type": "code",
   "execution_count": 53,
   "id": "a594c1ec-7add-4c14-8eaa-348be16241fb",
   "metadata": {},
   "outputs": [],
   "source": [
    "### and other example - int to float, float to int,etc..."
   ]
  },
  {
   "cell_type": "markdown",
   "id": "b48fd849-718a-4c69-a3c5-c6d513046c2b",
   "metadata": {},
   "source": [
    "## Q.6) How do conditional statements work in Python? Illustrate with examples."
   ]
  },
  {
   "cell_type": "markdown",
   "id": "b99eba06-380a-4c4e-8748-50fddb1f9472",
   "metadata": {},
   "source": [
    "### Ans :- Conditional statements decide which part of the code runs based on a condition."
   ]
  },
  {
   "cell_type": "code",
   "execution_count": 55,
   "id": "66e2ee0b-5e94-4689-89a9-a82ab0d7ace7",
   "metadata": {},
   "outputs": [
    {
     "name": "stdout",
     "output_type": "stream",
     "text": [
      "You just became eligible tovoter id card\n"
     ]
    }
   ],
   "source": [
    "age = 18\n",
    "if age<18:\n",
    "    print(\"You are not eligible to voter id card\")\n",
    "elif age==18:\n",
    "    print(\"You just became eligible tovoter id card\")\n",
    "else:\n",
    "    print(\"You are eligible to voter id card\")"
   ]
  },
  {
   "cell_type": "markdown",
   "id": "61ad8738-a35b-4ec9-9dbc-80814791c3b0",
   "metadata": {},
   "source": [
    "## Q.7) Describe the different types of loops in Python and their use cases with examples."
   ]
  },
  {
   "cell_type": "markdown",
   "id": "bc58299c-fa22-4b0b-97d2-cd5365e32bc6",
   "metadata": {},
   "source": [
    "### Ans :- 1.While loop:- Repeatedly executed a block of code untill a condition is met.   2.For loop:- iterate over a sequence of elements"
   ]
  },
  {
   "cell_type": "code",
   "execution_count": 56,
   "id": "ad4b0d3d-c652-4839-84f1-6e90b713f578",
   "metadata": {},
   "outputs": [
    {
     "name": "stdout",
     "output_type": "stream",
     "text": [
      "1\n",
      "2\n",
      "3\n",
      "4\n",
      "5\n",
      "6\n",
      "7\n",
      "8\n",
      "9\n"
     ]
    }
   ],
   "source": [
    "#1. While Loop Example\n",
    "a = 10\n",
    "i = 1\n",
    "while i < a:\n",
    "    print(i)\n",
    "    i = i+1"
   ]
  },
  {
   "cell_type": "code",
   "execution_count": 57,
   "id": "4b834ee9-245a-4297-805e-6996a5c4fe2d",
   "metadata": {},
   "outputs": [
    {
     "name": "stdout",
     "output_type": "stream",
     "text": [
      "9\n",
      "8\n",
      "7\n",
      "6\n",
      "5\n",
      "4\n",
      "3\n",
      "2\n",
      "1\n"
     ]
    }
   ],
   "source": [
    "count = 9\n",
    "while count > 0:\n",
    "    print(count)\n",
    "    count = count - 1"
   ]
  },
  {
   "cell_type": "code",
   "execution_count": 58,
   "id": "81094f17-305d-45b9-bd19-730ebd02b9ad",
   "metadata": {},
   "outputs": [
    {
     "name": "stdout",
     "output_type": "stream",
     "text": [
      "1-DA\n",
      "2-DS\n"
     ]
    }
   ],
   "source": [
    "##2. For Loop Example\n",
    "l = [\"1-DA\",\"2-DS\"]\n",
    "for i in l:\n",
    "    print(i)"
   ]
  },
  {
   "cell_type": "code",
   "execution_count": null,
   "id": "a38e3d5e-7d3a-41bb-b8f1-59e41fc37404",
   "metadata": {},
   "outputs": [],
   "source": []
  }
 ],
 "metadata": {
  "kernelspec": {
   "display_name": "Python 3 (ipykernel)",
   "language": "python",
   "name": "python3"
  },
  "language_info": {
   "codemirror_mode": {
    "name": "ipython",
    "version": 3
   },
   "file_extension": ".py",
   "mimetype": "text/x-python",
   "name": "python",
   "nbconvert_exporter": "python",
   "pygments_lexer": "ipython3",
   "version": "3.12.7"
  }
 },
 "nbformat": 4,
 "nbformat_minor": 5
}
